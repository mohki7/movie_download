{
 "cells": [
  {
   "cell_type": "code",
   "execution_count": 3,
   "metadata": {},
   "outputs": [
    {
     "name": "stdout",
     "output_type": "stream",
     "text": [
      "[youtube] nmh34mj4Us4: Downloading webpage\n",
      "[youtube] nmh34mj4Us4: Downloading android player API JSON\n",
      "[info] nmh34mj4Us4: Downloading 1 format(s): 315+251\n",
      "[download] Destination: 【欅坂46 THE LAST LIVE】山﨑天センター 大人は信じてくれない【高画質 60fps】 [nmh34mj4Us4].f315.webm\n",
      "[download] 100% of 295.36MiB in 00:49                      \n",
      "[download] Destination: 【欅坂46 THE LAST LIVE】山﨑天センター 大人は信じてくれない【高画質 60fps】 [nmh34mj4Us4].f251.webm\n",
      "[download] 100% of 3.15MiB in 00:00                   \n",
      "[Merger] Merging formats into \"【欅坂46 THE LAST LIVE】山﨑天センター 大人は信じてくれない【高画質 60fps】 [nmh34mj4Us4].webm\"\n",
      "Deleting original file 【欅坂46 THE LAST LIVE】山﨑天センター 大人は信じてくれない【高画質 60fps】 [nmh34mj4Us4].f315.webm (pass -k to keep)\n",
      "Deleting original file 【欅坂46 THE LAST LIVE】山﨑天センター 大人は信じてくれない【高画質 60fps】 [nmh34mj4Us4].f251.webm (pass -k to keep)\n"
     ]
    }
   ],
   "source": [
    "import yt_dlp\n",
    "URL_movie = \"https://youtu.be/nmh34mj4Us4\"\n",
    "ydl_opts = {}\n",
    "with yt_dlp.YoutubeDL(ydl_opts) as ydl:\n",
    "    data = ydl.download([URL_movie])\n"
   ]
  },
  {
   "cell_type": "code",
   "execution_count": 4,
   "metadata": {},
   "outputs": [
    {
     "name": "stdout",
     "output_type": "stream",
     "text": [
      "0\n"
     ]
    }
   ],
   "source": [
    "print(data)"
   ]
  },
  {
   "cell_type": "code",
   "execution_count": null,
   "metadata": {},
   "outputs": [],
   "source": []
  }
 ],
 "metadata": {
  "interpreter": {
   "hash": "261f23071b321cadb7c55ab55e4ec97f502c7511108d98d06abe231da1ea3209"
  },
  "kernelspec": {
   "display_name": "Python 3.9.7 ('base')",
   "language": "python",
   "name": "python3"
  },
  "language_info": {
   "codemirror_mode": {
    "name": "ipython",
    "version": 3
   },
   "file_extension": ".py",
   "mimetype": "text/x-python",
   "name": "python",
   "nbconvert_exporter": "python",
   "pygments_lexer": "ipython3",
   "version": "3.9.7"
  },
  "orig_nbformat": 4
 },
 "nbformat": 4,
 "nbformat_minor": 2
}
