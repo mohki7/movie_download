{
 "cells": [
  {
   "cell_type": "code",
   "execution_count": 1,
   "metadata": {},
   "outputs": [
    {
     "name": "stderr",
     "output_type": "stream",
     "text": [
      "2022-05-04 22:36:08.241 INFO    numexpr.utils: NumExpr defaulting to 4 threads.\n"
     ]
    }
   ],
   "source": [
    "import streamlit as st\n",
    "import yt_dlp\n"
   ]
  },
  {
   "cell_type": "code",
   "execution_count": 3,
   "metadata": {},
   "outputs": [],
   "source": [
    "st.title(\"動画保存サイト\")\n",
    "\"・YouTubeやTwitter、ニコニコ動画やInstagram上にある動画を保存できます。\"\n",
    "\n",
    "ffmpeg = st.checkbox(label = \"ffmpegをダウンロード済み\")\n",
    "\"※ffmpegをダウンロードしている方は、高画質・高音質で動画をダウンロード可能です。\"\n",
    "\"※ffmpegをダウンロードしていない方は、基本的に720pでダウンロードします。\"\n",
    "\n",
    "\n",
    "URL_movie = st.text_input(\"ここに保存したい動画のURLを入力してください。\")\n",
    "act = st.button(\"実行\")\n",
    "if act:\n",
    "    if ffmpeg:\n",
    "        ydl_opts = {\"format\": \"bestvideo[ext=mp4]+bestaudio[ext=m4a]/best[ext=mp4]/best\"}\n",
    "    else:\n",
    "        ydl_opts ={}\n",
    "    with yt_dlp.YoutubeDL(ydl_opts) as ydl:\n",
    "        data = ydl.download([URL_movie])\n",
    "\n",
    "st.write(\"contact:okmototoba@gmail.com\")\n",
    "\n",
    "#st.download_button(label = \"ダウンロード\", data = data)\n"
   ]
  },
  {
   "cell_type": "code",
   "execution_count": null,
   "metadata": {},
   "outputs": [],
   "source": []
  }
 ],
 "metadata": {
  "interpreter": {
   "hash": "261f23071b321cadb7c55ab55e4ec97f502c7511108d98d06abe231da1ea3209"
  },
  "kernelspec": {
   "display_name": "Python 3.9.12 ('base')",
   "language": "python",
   "name": "python3"
  },
  "language_info": {
   "codemirror_mode": {
    "name": "ipython",
    "version": 3
   },
   "file_extension": ".py",
   "mimetype": "text/x-python",
   "name": "python",
   "nbconvert_exporter": "python",
   "pygments_lexer": "ipython3",
   "version": "3.9.12"
  },
  "orig_nbformat": 4
 },
 "nbformat": 4,
 "nbformat_minor": 2
}
